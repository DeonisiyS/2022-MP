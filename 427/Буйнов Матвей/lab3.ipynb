import numpy as np
import math


def X(a):
    return((2-a)*math.exp(a))

def Find_x(eps,a,b,c):    
    if(abs(X((a+b)/2)-X(a))<eps)or(abs(X((a+b)/2)-X(a))<eps):
        print("x= ",(a+b)/2)
    elif(X((a+b)/2)*c>0.):
        Find_x(eps,(a+b)/2,b,c)
    else:
        Find_x(eps,a,(a+b)/2,c)
    return()


a=1.
b=5.
eps=10e-4
#далее эти переменные не изменяются

print("Вариант №: ",len("Buynov Plotvei Vladimirovich")%5)
Find_x(eps,a,b,X(a))

Вариант №:  1
x=  1.9998779296875

()

